{
 "cells": [
  {
   "cell_type": "code",
   "execution_count": 67,
   "id": "d89e9e84-df51-4efb-9317-a0213d34493d",
   "metadata": {},
   "outputs": [],
   "source": [
    "# Making a basic Bokeh line graph\n",
    "\n",
    "# Import Bokeh\n",
    "from bokeh.plotting import figure # Figure will act as a contianter where you add lines, labels, points, etc. for plot, legends, etc. \n",
    "\n",
    "# Helpful Bokeh Tools\n",
    "from bokeh.io import output_file, show\n",
    "\n",
    "# use this in your file path calls IF you run this as under the PythonMegaCoursePractice directory\n",
    "PROJDIR = \"./App_Project_Practice/interactive_data_visualization_bokeh/\" \n",
    "\n",
    "# Prepare some data (x and y must have same length or will throw an error later)\n",
    "x = [1, 2, 3, 4, 5]\n",
    "y = [6, 7, 8, 9, 10]\n",
    "\n",
    "# Prepare the out file\n",
    "output_file(\"Line.html\")\n",
    "\n",
    "# Create a figure object\n",
    "f = figure()\n",
    "\n",
    "# Create a line plot\n",
    "f.line(x, y)\n",
    "\n",
    "# Write the graph in the figure object\n",
    "show(f)"
   ]
  },
  {
   "cell_type": "code",
   "execution_count": 14,
   "id": "74165a17-f8df-4f81-b458-1974a8353140",
   "metadata": {},
   "outputs": [
    {
     "name": "stderr",
     "output_type": "stream",
     "text": [
      "BokehDeprecationWarning: 'circle() method with size value' was deprecated in Bokeh 3.4.0 and will be removed, use 'scatter(size=...) instead' instead.\n"
     ]
    }
   ],
   "source": [
    "# Drawing three dots with circle points\n",
    "\n",
    "# Prepare Datq\n",
    "x = [3, 7.5, 10]\n",
    "y = [3, 6, 9]\n",
    "\n",
    "# Prepare the out file\n",
    "output_file(\"Line.html\")\n",
    "\n",
    "# Create a figure object\n",
    "f = figure()\n",
    "\n",
    "# Create a line plot\n",
    "f.circle(x, y, size=5)\n",
    "\n",
    "# Write the graph in the figure object\n",
    "show(f)"
   ]
  },
  {
   "cell_type": "code",
   "execution_count": 22,
   "id": "462e624b-98a3-49b9-8f0f-b67c6090748c",
   "metadata": {},
   "outputs": [
    {
     "name": "stderr",
     "output_type": "stream",
     "text": [
      "BokehDeprecationWarning: 'triangle() method' was deprecated in Bokeh 3.4.0 and will be removed, use \"scatter(marker='triangle', ...) instead\" instead.\n"
     ]
    }
   ],
   "source": [
    "# Drawing three dots with triangle points\n",
    "\n",
    "# Prepare Datq\n",
    "x = [3, 7.5, 10]\n",
    "y = [3, 6, 9]\n",
    "\n",
    "# Prepare the out file\n",
    "output_file(\"Line.html\")\n",
    "\n",
    "# Create a figure object\n",
    "f = figure()\n",
    "\n",
    "# Create a line plot\n",
    "f.triangle(x, y)\n",
    "\n",
    "# Write the graph in the figure object\n",
    "show(f)"
   ]
  },
  {
   "cell_type": "code",
   "execution_count": 29,
   "id": "1fccd6ea-1e49-44a2-9c07-28ff08be2eb2",
   "metadata": {},
   "outputs": [],
   "source": [
    "# Making a basic Bokeh line graph with CSV file\n",
    "\n",
    "# Import pandas\n",
    "import pandas\n",
    "\n",
    "\n",
    "# Prepare some data (x and y must have same length or will throw an error later)\n",
    "# df = pandas.read_csv(PROJDIR + \"data/data.csv\")\n",
    "df = pandas.read_csv(\"data/data.csv\")\n",
    "x=df[\"x\"]\n",
    "y=df[\"y\"]\n",
    "# Prepare the out file\n",
    "output_file(\"Line.html\")\n",
    "\n",
    "# Create a figure object\n",
    "f = figure()\n",
    "\n",
    "# Create a line plot\n",
    "f.line(x, y)\n",
    "\n",
    "# Write the graph in the figure object\n",
    "show(f)"
   ]
  },
  {
   "cell_type": "code",
   "execution_count": 46,
   "id": "a6fc9ce9-49ee-4989-9a5d-bf9efc1bd0d9",
   "metadata": {},
   "outputs": [],
   "source": [
    "# Making a basic Bokeh line graph with CSV file\n",
    "\n",
    "# Import pandas\n",
    "import pandas\n",
    "\n",
    "\n",
    "# Prepare some data (x and y must have same length or will throw an error later)\n",
    "# df = pandas.read_csv(PROJDIR + \"data/data.csv\")\n",
    "df = pandas.read_csv(\"data/bachelors.csv\")\n",
    "x=df[\"Year\"]\n",
    "y=df[\"Engineering\"]\n",
    "# Prepare the out file\n",
    "output_file(\"Line_from_bachelors.html\")\n",
    "\n",
    "# Create a figure object\n",
    "f = figure()\n",
    "\n",
    "# Create a line plot\n",
    "f.line(x, y)\n",
    "\n",
    "# Write the graph in the figure object\n",
    "show(f)"
   ]
  },
  {
   "cell_type": "code",
   "execution_count": 33,
   "id": "a2b54ddc-1c7c-4c24-bc28-7e31715eb19d",
   "metadata": {},
   "outputs": [],
   "source": [
    "# Create a figure object with updated parameters\n",
    "p = figure(width=500, height=400, tools='pan')\n",
    "\n",
    "# Customize the plot title\n",
    "p.title.text = \"Cool Data\"\n",
    "p.title.text_color = \"Gray\"\n",
    "p.title.text_font = \"times\"\n",
    "p.title.text_font_style = \"bold\"\n",
    "\n",
    "# Customize the axes\n",
    "p.xaxis.minor_tick_line_color = None\n",
    "p.yaxis.minor_tick_line_color = None\n",
    "p.xaxis.axis_label = \"Date\"\n",
    "p.yaxis.axis_label = \"Intensity\"    \n",
    "\n",
    "# Create a line plot\n",
    "p.line([1, 2, 3], [4, 5, 6])\n",
    "\n",
    "# Prepare the output file and display the plot\n",
    "output_file(\"graph.html\")\n",
    "show(p)\n"
   ]
  },
  {
   "cell_type": "code",
   "execution_count": 45,
   "id": "45cce124-6d96-4289-b1e3-e415f9879a80",
   "metadata": {},
   "outputs": [],
   "source": [
    "# Making a basic Bokeh line graph with CSV file\n",
    "\n",
    "# Import pandas\n",
    "import xlrd\n",
    "\n",
    "\n",
    "# Prepare some data (x and y must have same length or will throw an error later)\n",
    "# df = pandas.read_csv(PROJDIR + \"data/data.csv\")\n",
    "df = pandas.read_excel(\"data/verlegenhuken.xlsx\")\n",
    "x=df[\"Temperature\"]\n",
    "y=df[\"Pressure\"]\n",
    "# Prepare the out file\n",
    "output_file(\"Scatter_Plot_From_Weather.html\")\n",
    "\n",
    "# Create a figure object\n",
    "f = figure()\n",
    "\n",
    "# Configure figure object\n",
    "f.title.text = \"Temperature and Air Pressure\"\n",
    "f.title.text_color = \"Gray\"\n",
    "f.title.text_font_style = \"bold\"\n",
    "f.xaxis.axis_label = \"Temperature(°C)\"\n",
    "f.yaxis.axis_label = \"Pressure(hPa)\"    \n",
    "\n",
    "# Create a line plot\n",
    "f.scatter(x, y, marker=\"circle\", size=1, fill_color=\"blue\")\n",
    "\n",
    "# Write the graph in the figure object\n",
    "show(f)"
   ]
  },
  {
   "cell_type": "code",
   "execution_count": 49,
   "id": "22762219-cfd0-46ef-a393-612ab0bf8d26",
   "metadata": {},
   "outputs": [
    {
     "name": "stderr",
     "output_type": "stream",
     "text": [
      "BokehDeprecationWarning: 'circle() method with size value' was deprecated in Bokeh 3.4.0 and will be removed, use 'scatter(size=...) instead' instead.\n"
     ]
    }
   ],
   "source": [
    "from bokeh.plotting import figure, output_file, show\n",
    "\n",
    "# Create a figure object with the correct tools parameter\n",
    "p = figure(width=500, height=400, tools='pan,reset')\n",
    "\n",
    "# Customize the plot title\n",
    "p.title.text = \"Earthquakes\"\n",
    "p.title.text_color = \"Orange\"\n",
    "p.title.text_font = \"times\"\n",
    "p.title.text_font_style = \"italic\"\n",
    "\n",
    "# Customize the axes\n",
    "p.yaxis.minor_tick_line_color = \"Yellow\"\n",
    "p.xaxis.axis_label = \"Times\"\n",
    "p.yaxis.axis_label = \"Value\"\n",
    "\n",
    "# Create a scatter plot\n",
    "p.circle([1, 2, 3, 4, 5], [5, 6, 5, 5, 3], size=[i*2 for i in [8, 12, 14, 15, 20]], color=\"red\", alpha=0.5)\n",
    "\n",
    "# Prepare the output file and display the plot\n",
    "output_file(\"Scatter_plotting.html\")\n",
    "show(p)"
   ]
  },
  {
   "cell_type": "code",
   "execution_count": 68,
   "id": "2bcea53e-0710-4d11-ba87-f64ad81cc5a6",
   "metadata": {},
   "outputs": [
    {
     "name": "stderr",
     "output_type": "stream",
     "text": [
      "/var/folders/cq/zncf3fsj61l3spjvf13zkqbm0000gq/T/ipykernel_20815/152253649.py:5: UserWarning: Could not infer format, so each element will be parsed individually, falling back to `dateutil`. To ensure parsing is consistent and as-expected, please specify a format.\n",
      "  df = pandas.read_csv(\"data/adbe.csv\", parse_dates=[\"Date\"])\n"
     ]
    }
   ],
   "source": [
    "\n",
    "# Prepare the out file\n",
    "output_file(\"Finance_Graph_2009-to-2012.html\")\n",
    "\n",
    "# Retrieve data\n",
    "df = pandas.read_csv(\"data/adbe.csv\", parse_dates=[\"Date\"])\n",
    "\n",
    "# Create a figure object\n",
    "f = figure(width=00, height=500, x_axis_type=\"datetime\", sizing_mode=\"stretch_width\")\n",
    "\n",
    "# Draw to the line plot\n",
    "f.line(df[\"Date\"], df[\"Close\"], color=\"Orange\", alpha=0.5)\n",
    "\n",
    "# Write the graph in the figure object\n",
    "show(f)"
   ]
  }
 ],
 "metadata": {
  "kernelspec": {
   "display_name": "Python 3 (ipykernel)",
   "language": "python",
   "name": "python3"
  },
  "language_info": {
   "codemirror_mode": {
    "name": "ipython",
    "version": 3
   },
   "file_extension": ".py",
   "mimetype": "text/x-python",
   "name": "python",
   "nbconvert_exporter": "python",
   "pygments_lexer": "ipython3",
   "version": "3.12.5"
  }
 },
 "nbformat": 4,
 "nbformat_minor": 5
}
